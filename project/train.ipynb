{
 "cells": [
  {
   "cell_type": "code",
   "execution_count": 43,
   "metadata": {},
   "outputs": [],
   "source": [
    "import pandas as pd\n",
    "import statistics as st\n",
    "import tensorflow as tf\n",
    "from keras.models import Sequential\n",
    "from keras.models import load_model\n",
    "from keras.optimizers import RMSprop,Adam\n",
    "from keras.layers import Dense,Flatten,Dropout,Activation\n",
    "from sklearn.metrics import accuracy_score\n",
    "from sklearn.preprocessing import MinMaxScaler,StandardScaler\n",
    "from sklearn.model_selection import train_test_split"
   ]
  },
  {
   "cell_type": "code",
   "execution_count": 32,
   "metadata": {},
   "outputs": [
    {
     "data": {
      "text/html": [
       "<div>\n",
       "<style scoped>\n",
       "    .dataframe tbody tr th:only-of-type {\n",
       "        vertical-align: middle;\n",
       "    }\n",
       "\n",
       "    .dataframe tbody tr th {\n",
       "        vertical-align: top;\n",
       "    }\n",
       "\n",
       "    .dataframe thead th {\n",
       "        text-align: right;\n",
       "    }\n",
       "</style>\n",
       "<table border=\"1\" class=\"dataframe\">\n",
       "  <thead>\n",
       "    <tr style=\"text-align: right;\">\n",
       "      <th></th>\n",
       "      <th>q1</th>\n",
       "      <th>q2</th>\n",
       "      <th>q3</th>\n",
       "      <th>q4</th>\n",
       "      <th>q5</th>\n",
       "      <th>q6</th>\n",
       "      <th>x</th>\n",
       "      <th>y</th>\n",
       "      <th>z</th>\n",
       "    </tr>\n",
       "  </thead>\n",
       "  <tbody>\n",
       "    <tr>\n",
       "      <th>0</th>\n",
       "      <td>0.531240</td>\n",
       "      <td>-0.309220</td>\n",
       "      <td>0.46022</td>\n",
       "      <td>-0.000805</td>\n",
       "      <td>0.130020</td>\n",
       "      <td>0.0</td>\n",
       "      <td>0.2553</td>\n",
       "      <td>0.1500</td>\n",
       "      <td>0.551</td>\n",
       "    </tr>\n",
       "    <tr>\n",
       "      <th>1</th>\n",
       "      <td>-0.200530</td>\n",
       "      <td>0.480510</td>\n",
       "      <td>-0.14141</td>\n",
       "      <td>-0.001043</td>\n",
       "      <td>-0.057845</td>\n",
       "      <td>0.0</td>\n",
       "      <td>0.4920</td>\n",
       "      <td>-0.1000</td>\n",
       "      <td>0.475</td>\n",
       "    </tr>\n",
       "    <tr>\n",
       "      <th>2</th>\n",
       "      <td>0.696370</td>\n",
       "      <td>-0.060094</td>\n",
       "      <td>0.49841</td>\n",
       "      <td>0.000969</td>\n",
       "      <td>0.129490</td>\n",
       "      <td>0.0</td>\n",
       "      <td>0.2667</td>\n",
       "      <td>0.2230</td>\n",
       "      <td>0.456</td>\n",
       "    </tr>\n",
       "    <tr>\n",
       "      <th>3</th>\n",
       "      <td>-0.064687</td>\n",
       "      <td>0.435570</td>\n",
       "      <td>-0.45136</td>\n",
       "      <td>-0.001830</td>\n",
       "      <td>-0.129870</td>\n",
       "      <td>0.0</td>\n",
       "      <td>0.4850</td>\n",
       "      <td>-0.0314</td>\n",
       "      <td>0.620</td>\n",
       "    </tr>\n",
       "    <tr>\n",
       "      <th>4</th>\n",
       "      <td>-0.661740</td>\n",
       "      <td>-0.012239</td>\n",
       "      <td>0.31486</td>\n",
       "      <td>-0.000736</td>\n",
       "      <td>0.078707</td>\n",
       "      <td>0.0</td>\n",
       "      <td>0.2940</td>\n",
       "      <td>-0.2290</td>\n",
       "      <td>0.510</td>\n",
       "    </tr>\n",
       "  </tbody>\n",
       "</table>\n",
       "</div>"
      ],
      "text/plain": [
       "         q1        q2       q3        q4        q5   q6       x       y      z\n",
       "0  0.531240 -0.309220  0.46022 -0.000805  0.130020  0.0  0.2553  0.1500  0.551\n",
       "1 -0.200530  0.480510 -0.14141 -0.001043 -0.057845  0.0  0.4920 -0.1000  0.475\n",
       "2  0.696370 -0.060094  0.49841  0.000969  0.129490  0.0  0.2667  0.2230  0.456\n",
       "3 -0.064687  0.435570 -0.45136 -0.001830 -0.129870  0.0  0.4850 -0.0314  0.620\n",
       "4 -0.661740 -0.012239  0.31486 -0.000736  0.078707  0.0  0.2940 -0.2290  0.510"
      ]
     },
     "execution_count": 32,
     "metadata": {},
     "output_type": "execute_result"
    }
   ],
   "source": [
    "dataset = pd.read_csv('archive/newDataset.csv')\n",
    "dataset.head()"
   ]
  },
  {
   "cell_type": "code",
   "execution_count": 53,
   "metadata": {},
   "outputs": [],
   "source": [
    "# def buildModel(inputsize,outputsize):\n",
    "#     model = Sequential([\n",
    "#         Dense(inputsize, activation='relu'),\n",
    "#         Dense(outputsize)])\n",
    "    \n",
    "#     return model\n",
    "\n",
    "def build_model(input_size,output_size,learning_rate):\n",
    "        model = Sequential()\n",
    "        model.add(Dense(64,input_shape=(input_size),activation='relu'))\n",
    "        model.add(Dense(64, activation='relu'))\n",
    "        model.add(Dense(output_size))\n",
    "        model.compile(loss='mse', optimizer=RMSprop(lr=learning_rate, rho=0.9, epsilon=1e-06))\n",
    "        model.summary()\n",
    "\n",
    "        return model    "
   ]
  },
  {
   "cell_type": "code",
   "execution_count": 52,
   "metadata": {},
   "outputs": [
    {
     "name": "stderr",
     "output_type": "stream",
     "text": [
      "WARNING:absl:`lr` is deprecated in Keras optimizer, please use `learning_rate` or use the legacy optimizer, e.g.,tf.keras.optimizers.legacy.RMSprop.\n"
     ]
    },
    {
     "name": "stdout",
     "output_type": "stream",
     "text": [
      "Model: \"sequential_19\"\n",
      "_________________________________________________________________\n",
      " Layer (type)                Output Shape              Param #   \n",
      "=================================================================\n",
      " dense_45 (Dense)            (None, 1, 64)             448       \n",
      "                                                                 \n",
      " dense_46 (Dense)            (None, 1, 64)             4160      \n",
      "                                                                 \n",
      " dense_47 (Dense)            (None, 1, 3)              195       \n",
      "                                                                 \n",
      "=================================================================\n",
      "Total params: 4803 (18.76 KB)\n",
      "Trainable params: 4803 (18.76 KB)\n",
      "Non-trainable params: 0 (0.00 Byte)\n",
      "_________________________________________________________________\n"
     ]
    }
   ],
   "source": [
    "model =  build_model(6,3,1)"
   ]
  }
 ],
 "metadata": {
  "kernelspec": {
   "display_name": "Python 3",
   "language": "python",
   "name": "python3"
  },
  "language_info": {
   "codemirror_mode": {
    "name": "ipython",
    "version": 3
   },
   "file_extension": ".py",
   "mimetype": "text/x-python",
   "name": "python",
   "nbconvert_exporter": "python",
   "pygments_lexer": "ipython3",
   "version": "3.10.12"
  }
 },
 "nbformat": 4,
 "nbformat_minor": 2
}
