{
 "cells": [
  {
   "cell_type": "code",
   "execution_count": 1,
   "metadata": {},
   "outputs": [],
   "source": [
    "from tkinter import *\n",
    "from matplotlib.figure import Figure \n",
    "from matplotlib.backends.backend_tkagg import (FigureCanvasTkAgg, \n",
    "NavigationToolbar2Tk) \n",
    "\n",
    "# plot function is created for \n",
    "# plotting the graph in \n",
    "# tkinter window \n",
    "def plot(): \n",
    "\n",
    "\t# the figure that will contain the plot \n",
    "\tfig = Figure(figsize = (5, 5), \n",
    "\t\t\t\tdpi = 100) \n",
    "\n",
    "\t# list of squares \n",
    "\ty = [i**2 for i in range(101)] \n",
    "\n",
    "\t# adding the subplot \n",
    "\tplot1 = fig.add_subplot(111) \n",
    "\n",
    "\t# plotting the graph \n",
    "\tplot1.plot(y) \n",
    "\n",
    "\t# creating the Tkinter canvas \n",
    "\t# containing the Matplotlib figure \n",
    "\tcanvas = FigureCanvasTkAgg(fig, \n",
    "\t\t\t\t\t\t\tmaster = window) \n",
    "\tcanvas.draw() \n",
    "\n",
    "\t# placing the canvas on the Tkinter window \n",
    "\tcanvas.get_tk_widget().pack() \n",
    "\n",
    "\t# creating the Matplotlib toolbar \n",
    "\ttoolbar = NavigationToolbar2Tk(canvas, \n",
    "\t\t\t\t\t\t\t\twindow) \n",
    "\ttoolbar.update() \n",
    "\n",
    "\t# placing the toolbar on the Tkinter window \n",
    "\tcanvas.get_tk_widget().pack() \n",
    "\n",
    "# the main Tkinter window \n",
    "window = Tk() \n",
    "\n",
    "# setting the title \n",
    "window.title('Plotting in Tkinter') \n",
    "\n",
    "# dimensions of the main window \n",
    "window.geometry(\"500x500\") \n",
    "\n",
    "# button that displays the plot \n",
    "plot_button = Button(master = window, \n",
    "\t\t\t\t\tcommand = plot, \n",
    "\t\t\t\t\theight = 2, \n",
    "\t\t\t\t\twidth = 10, \n",
    "\t\t\t\t\ttext = \"Plot\") \n",
    "\n",
    "# place the button \n",
    "# in main window \n",
    "plot_button.pack() \n",
    "\n",
    "# run the gui \n",
    "window.mainloop() \n"
   ]
  },
  {
   "cell_type": "code",
   "execution_count": 3,
   "metadata": {},
   "outputs": [],
   "source": [
    "import matlab.engine\n",
    "eng = matlab.engine.start_matlab()"
   ]
  },
  {
   "cell_type": "code",
   "execution_count": 7,
   "metadata": {},
   "outputs": [
    {
     "data": {
      "text/plain": [
       "<matlab.object at 0x747d19efcc90>"
      ]
     },
     "execution_count": 7,
     "metadata": {},
     "output_type": "execute_result"
    }
   ],
   "source": [
    "robo = eng.loadrobot('abbIrb120')\n",
    "eng.show(robo)"
   ]
  },
  {
   "cell_type": "code",
   "execution_count": 10,
   "metadata": {},
   "outputs": [
    {
     "data": {
      "image/png": "[encoded data removed]",
      "text/plain": [
       "<Figure size 640x480 with 1 Axes>"
      ]
     },
     "metadata": {},
     "output_type": "display_data"
    }
   ],
   "source": [
    "\n",
    "import numpy as np\n",
    "import scipy.interpolate\n",
    "from scipy.interpolate import CubicSpline\n",
    "import matplotlib.pyplot as plt\n",
    "\n",
    "# Define points\n",
    "x = np.array([0, 1])  # X-coordinates of Joint 1 and Joint 2\n",
    "y = np.array([0, 1])  # Y-coordinates of Joint 1 and Joint 2\n",
    "\n",
    "# Create the cubic spline\n",
    "cs = CubicSpline(x, y, bc_type='natural')\n",
    "\n",
    "# Generate points for plotting\n",
    "x_plot = np.linspace(0, 1, 100)\n",
    "y_plot = cs(x_plot)\n",
    "\n",
    "# Plot the result\n",
    "plt.figure()\n",
    "plt.plot(x, y, 'o', label='Data Points')\n",
    "plt.plot(x_plot, y_plot, label='Cubic Spline')\n",
    "plt.legend()\n",
    "plt.show()"
   ]
  },
  {
   "cell_type": "code",
   "execution_count": 2,
   "metadata": {},
   "outputs": [
    {
     "name": "stdout",
     "output_type": "stream",
     "text": [
      "2.0\n"
     ]
    }
   ],
   "source": [
    "#imports \n",
    "import matplotlib.pyplot as plt \n",
    "import numpy as np \n",
    "from scipy.interpolate import CubicSpline, interp1d \n",
    "plt.rcParams['figure.figsize'] =(12,8) \n",
    "\n",
    "x = np.array([1,4])\n",
    "y = np.array([2,7])\n",
    "# apply cubic spline interpolation \n",
    "cs = CubicSpline(x, y) \n",
    "\n",
    "\n",
    "# plot cubic spline interpolation \n",
    "# plt.plot(x, y, 'o', label='data') \n",
    "# plt.plot(xs, 1/(1+(xs**2)), label='true') \n",
    "# plt.plot(xs, cs(xs), label=\"S\") \n",
    "# plt.plot(xs, cs(xs, 1), label=\"S'\") \n",
    "# plt.plot(xs, cs(xs, 2), label=\"S''\") \n",
    "# plt.plot(xs, cs(xs, 3), label=\"S'''\") \n",
    "# plt.ylim(-1.5, 1.5) \n",
    "# plt.legend(loc='upper right', ncol=2) \n",
    "# plt.title('Cubic Spline Interpolation') \n",
    "# plt.show()\n"
   ]
  }
 ],
 "metadata": {
  "kernelspec": {
   "display_name": "Python 3",
   "language": "python",
   "name": "python3"
  },
  "language_info": {
   "codemirror_mode": {
    "name": "ipython",
    "version": 3
   },
   "file_extension": ".py",
   "mimetype": "text/x-python",
   "name": "python",
   "nbconvert_exporter": "python",
   "pygments_lexer": "ipython3",
   "version": "3.10.12"
  }
 },
 "nbformat": 4,
 "nbformat_minor": 2
}
