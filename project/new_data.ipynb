{
 "cells": [
  {
   "cell_type": "code",
   "execution_count": 15,
   "metadata": {},
   "outputs": [],
   "source": [
    "import csv\n",
    "import statistics as st\n",
    "import pandas as pd\n",
    "import numpy as np"
   ]
  },
  {
   "cell_type": "code",
   "execution_count": 35,
   "metadata": {},
   "outputs": [],
   "source": [
    "dataset = pd.read_csv('archive/robot_inverse_kinematics_dataset.csv')"
   ]
  },
  {
   "cell_type": "code",
   "execution_count": 36,
   "metadata": {},
   "outputs": [
    {
     "data": {
      "text/html": [
       "<div>\n",
       "<style scoped>\n",
       "    .dataframe tbody tr th:only-of-type {\n",
       "        vertical-align: middle;\n",
       "    }\n",
       "\n",
       "    .dataframe tbody tr th {\n",
       "        vertical-align: top;\n",
       "    }\n",
       "\n",
       "    .dataframe thead th {\n",
       "        text-align: right;\n",
       "    }\n",
       "</style>\n",
       "<table border=\"1\" class=\"dataframe\">\n",
       "  <thead>\n",
       "    <tr style=\"text-align: right;\">\n",
       "      <th></th>\n",
       "      <th>q1</th>\n",
       "      <th>q2</th>\n",
       "      <th>q3</th>\n",
       "      <th>q4</th>\n",
       "      <th>q5</th>\n",
       "      <th>q6</th>\n",
       "      <th>x</th>\n",
       "      <th>y</th>\n",
       "      <th>z</th>\n",
       "    </tr>\n",
       "  </thead>\n",
       "  <tbody>\n",
       "    <tr>\n",
       "      <th>0</th>\n",
       "      <td>-1.510</td>\n",
       "      <td>-0.763</td>\n",
       "      <td>1.85</td>\n",
       "      <td>-0.817</td>\n",
       "      <td>0.9120</td>\n",
       "      <td>2.320</td>\n",
       "      <td>-0.0947</td>\n",
       "      <td>0.15000</td>\n",
       "      <td>0.301</td>\n",
       "    </tr>\n",
       "    <tr>\n",
       "      <th>1</th>\n",
       "      <td>-2.840</td>\n",
       "      <td>0.520</td>\n",
       "      <td>1.58</td>\n",
       "      <td>-1.270</td>\n",
       "      <td>-1.3900</td>\n",
       "      <td>0.617</td>\n",
       "      <td>0.1420</td>\n",
       "      <td>-0.10000</td>\n",
       "      <td>0.225</td>\n",
       "    </tr>\n",
       "    <tr>\n",
       "      <th>2</th>\n",
       "      <td>-1.230</td>\n",
       "      <td>0.695</td>\n",
       "      <td>1.22</td>\n",
       "      <td>-1.130</td>\n",
       "      <td>0.0343</td>\n",
       "      <td>6.270</td>\n",
       "      <td>-0.0833</td>\n",
       "      <td>0.22300</td>\n",
       "      <td>0.206</td>\n",
       "    </tr>\n",
       "    <tr>\n",
       "      <th>3</th>\n",
       "      <td>-1.990</td>\n",
       "      <td>1.060</td>\n",
       "      <td>1.74</td>\n",
       "      <td>-1.760</td>\n",
       "      <td>-1.2400</td>\n",
       "      <td>4.760</td>\n",
       "      <td>0.1350</td>\n",
       "      <td>-0.03140</td>\n",
       "      <td>0.370</td>\n",
       "    </tr>\n",
       "    <tr>\n",
       "      <th>4</th>\n",
       "      <td>1.050</td>\n",
       "      <td>0.836</td>\n",
       "      <td>1.34</td>\n",
       "      <td>-1.890</td>\n",
       "      <td>0.4840</td>\n",
       "      <td>4.380</td>\n",
       "      <td>-0.0560</td>\n",
       "      <td>-0.22900</td>\n",
       "      <td>0.260</td>\n",
       "    </tr>\n",
       "    <tr>\n",
       "      <th>...</th>\n",
       "      <td>...</td>\n",
       "      <td>...</td>\n",
       "      <td>...</td>\n",
       "      <td>...</td>\n",
       "      <td>...</td>\n",
       "      <td>...</td>\n",
       "      <td>...</td>\n",
       "      <td>...</td>\n",
       "      <td>...</td>\n",
       "    </tr>\n",
       "    <tr>\n",
       "      <th>14995</th>\n",
       "      <td>0.314</td>\n",
       "      <td>-0.534</td>\n",
       "      <td>1.76</td>\n",
       "      <td>1.970</td>\n",
       "      <td>-0.6990</td>\n",
       "      <td>3.870</td>\n",
       "      <td>-0.1130</td>\n",
       "      <td>-0.12800</td>\n",
       "      <td>0.257</td>\n",
       "    </tr>\n",
       "    <tr>\n",
       "      <th>14996</th>\n",
       "      <td>2.450</td>\n",
       "      <td>1.360</td>\n",
       "      <td>1.55</td>\n",
       "      <td>2.780</td>\n",
       "      <td>-0.3210</td>\n",
       "      <td>5.310</td>\n",
       "      <td>0.0633</td>\n",
       "      <td>-0.03160</td>\n",
       "      <td>0.450</td>\n",
       "    </tr>\n",
       "    <tr>\n",
       "      <th>14997</th>\n",
       "      <td>2.620</td>\n",
       "      <td>1.410</td>\n",
       "      <td>1.56</td>\n",
       "      <td>2.540</td>\n",
       "      <td>1.0600</td>\n",
       "      <td>5.870</td>\n",
       "      <td>0.1310</td>\n",
       "      <td>-0.16000</td>\n",
       "      <td>0.362</td>\n",
       "    </tr>\n",
       "    <tr>\n",
       "      <th>14998</th>\n",
       "      <td>-1.890</td>\n",
       "      <td>1.850</td>\n",
       "      <td>1.51</td>\n",
       "      <td>1.090</td>\n",
       "      <td>0.6970</td>\n",
       "      <td>4.070</td>\n",
       "      <td>0.0829</td>\n",
       "      <td>-0.01600</td>\n",
       "      <td>0.441</td>\n",
       "    </tr>\n",
       "    <tr>\n",
       "      <th>14999</th>\n",
       "      <td>2.680</td>\n",
       "      <td>-1.790</td>\n",
       "      <td>1.79</td>\n",
       "      <td>2.620</td>\n",
       "      <td>1.5900</td>\n",
       "      <td>2.640</td>\n",
       "      <td>-0.1570</td>\n",
       "      <td>-0.00369</td>\n",
       "      <td>0.254</td>\n",
       "    </tr>\n",
       "  </tbody>\n",
       "</table>\n",
       "<p>15000 rows × 9 columns</p>\n",
       "</div>"
      ],
      "text/plain": [
       "          q1     q2    q3     q4      q5     q6       x        y      z\n",
       "0     -1.510 -0.763  1.85 -0.817  0.9120  2.320 -0.0947  0.15000  0.301\n",
       "1     -2.840  0.520  1.58 -1.270 -1.3900  0.617  0.1420 -0.10000  0.225\n",
       "2     -1.230  0.695  1.22 -1.130  0.0343  6.270 -0.0833  0.22300  0.206\n",
       "3     -1.990  1.060  1.74 -1.760 -1.2400  4.760  0.1350 -0.03140  0.370\n",
       "4      1.050  0.836  1.34 -1.890  0.4840  4.380 -0.0560 -0.22900  0.260\n",
       "...      ...    ...   ...    ...     ...    ...     ...      ...    ...\n",
       "14995  0.314 -0.534  1.76  1.970 -0.6990  3.870 -0.1130 -0.12800  0.257\n",
       "14996  2.450  1.360  1.55  2.780 -0.3210  5.310  0.0633 -0.03160  0.450\n",
       "14997  2.620  1.410  1.56  2.540  1.0600  5.870  0.1310 -0.16000  0.362\n",
       "14998 -1.890  1.850  1.51  1.090  0.6970  4.070  0.0829 -0.01600  0.441\n",
       "14999  2.680 -1.790  1.79  2.620  1.5900  2.640 -0.1570 -0.00369  0.254\n",
       "\n",
       "[15000 rows x 9 columns]"
      ]
     },
     "execution_count": 36,
     "metadata": {},
     "output_type": "execute_result"
    }
   ],
   "source": [
    "dataset"
   ]
  },
  {
   "cell_type": "code",
   "execution_count": 37,
   "metadata": {},
   "outputs": [],
   "source": [
    "x = dataset['x'].to_numpy()\n",
    "y = dataset['y'].to_numpy()\n",
    "z = dataset['z'].to_numpy()"
   ]
  },
  {
   "cell_type": "code",
   "execution_count": 38,
   "metadata": {},
   "outputs": [
    {
     "data": {
      "text/plain": [
       "0.25729380873333335"
      ]
     },
     "execution_count": 38,
     "metadata": {},
     "output_type": "execute_result"
    }
   ],
   "source": [
    "st.mean(z)"
   ]
  },
  {
   "cell_type": "code",
   "execution_count": 39,
   "metadata": {},
   "outputs": [
    {
     "data": {
      "text/plain": [
       "0.5072938087333333"
      ]
     },
     "execution_count": 39,
     "metadata": {},
     "output_type": "execute_result"
    }
   ],
   "source": [
    "zd = z + 0.25\n",
    "st.mean(zd)"
   ]
  },
  {
   "cell_type": "code",
   "execution_count": 40,
   "metadata": {},
   "outputs": [
    {
     "data": {
      "text/plain": [
       "-0.005186054036666667"
      ]
     },
     "execution_count": 40,
     "metadata": {},
     "output_type": "execute_result"
    }
   ],
   "source": [
    "st.mean(x)"
   ]
  },
  {
   "cell_type": "code",
   "execution_count": 44,
   "metadata": {},
   "outputs": [
    {
     "data": {
      "text/plain": [
       "0.3448139459633333"
      ]
     },
     "execution_count": 44,
     "metadata": {},
     "output_type": "execute_result"
    }
   ],
   "source": [
    "xd = x + 0.35\n",
    "st.mean(xd)"
   ]
  },
  {
   "cell_type": "code",
   "execution_count": 45,
   "metadata": {},
   "outputs": [],
   "source": [
    "with open('new_dataset.csv', mode='w') as datafile:\n",
    "    writer = csv.writer(datafile, delimiter=',', quotechar='\"', quoting=csv.QUOTE_MINIMAL)\n",
    "    writer.writerow(['x','y','z'])\n",
    "    for i in range(len(x)):\n",
    "        writer.writerow([xd[i],y[i],zd[i]])"
   ]
  },
  {
   "cell_type": "code",
   "execution_count": 46,
   "metadata": {},
   "outputs": [],
   "source": [
    "newfile = pd.read_csv('archive/new_dataset.csv')"
   ]
  }
 ],
 "metadata": {
  "kernelspec": {
   "display_name": "Python 3",
   "language": "python",
   "name": "python3"
  },
  "language_info": {
   "codemirror_mode": {
    "name": "ipython",
    "version": 3
   },
   "file_extension": ".py",
   "mimetype": "text/x-python",
   "name": "python",
   "nbconvert_exporter": "python",
   "pygments_lexer": "ipython3",
   "version": "3.10.12"
  }
 },
 "nbformat": 4,
 "nbformat_minor": 2
}
