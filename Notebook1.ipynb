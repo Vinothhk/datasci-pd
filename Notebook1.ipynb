{
 "cells": [
  {
   "cell_type": "code",
   "execution_count": 2,
   "metadata": {},
   "outputs": [
    {
     "name": "stdout",
     "output_type": "stream",
     "text": [
      "The area of circle is 102.07 sq.units\n"
     ]
    }
   ],
   "source": [
    "from math import pi\n",
    "\n",
    "def calc_area(rad):\n",
    "    #Gets the Radius and returns the Area\n",
    "    area = pi*(r**2)\n",
    "    return area\n",
    "\n",
    "r = float(input(\"Radius of Circle: \"))              # Gets Input radius\n",
    "area = calc_area(r)                                 \n",
    "print(f'The area of circle is {area:.2f} sq.units')"
   ]
  },
  {
   "cell_type": "code",
   "execution_count": 3,
   "metadata": {},
   "outputs": [
    {
     "name": "stdout",
     "output_type": "stream",
     "text": [
      "initial Order: \n",
      "2 4 43 23 54 22 11 34 14 9 \n",
      "\n",
      "After Sorting: \n",
      "2 4 9 11 14 22 23 34 43 54 \n",
      "\n",
      "Sum: 216\n",
      "\n"
     ]
    }
   ],
   "source": [
    "# Function starts with getting input from user in single line and appends them to a list. \n",
    "# Then it sorts them and prints the output. \n",
    "lst = []    #Empty list for storing elements\n",
    "[a,b,c,d,e,f,g,h,i,j] = map(int,input(\"Enter any 10 random integers: \").split())  #Gets input in single line\n",
    "lst.append(a)\n",
    "lst.append(b)\n",
    "lst.append(c)\n",
    "lst.append(d)\n",
    "lst.append(e)\n",
    "lst.append(f)\n",
    "lst.append(g)\n",
    "lst.append(h)\n",
    "lst.append(i)\n",
    "lst.append(j)\n",
    "\n",
    "print('initial Order: ')\n",
    "for i in range(10):\n",
    "    print(lst[i], end=' ')     #Prints elements one by one before sorting\n",
    "print('\\n')\n",
    "\n",
    "\n",
    "#SORTING in ASCENDING ORDER \n",
    "lst.sort()\n",
    "print('After Sorting: ')\n",
    "for i in range(10):\n",
    "    print(lst[i], end=' ')\n",
    "print('\\n')\n",
    "\n",
    "ls = sum(lst)                  #Computes the Sum and prints it\n",
    "print(f'Sum: {ls}\\n')"
   ]
  },
  {
   "cell_type": "code",
   "execution_count": 6,
   "metadata": {},
   "outputs": [
    {
     "name": "stdout",
     "output_type": "stream",
     "text": [
      "The temperature in Mumbai is 36.5°C\n"
     ]
    }
   ],
   "source": [
    "temp = {'Chennai': 35.3,                  #Cities and temperatures are predefined\n",
    "        'Delhi': 37.4,\n",
    "        'Goa': 30.7,\n",
    "        'Kolkata':32.1,\n",
    "        'Mumbai': 36.5,\n",
    "        'Ahmedabad': 33.7,\n",
    "        'Hyderabad': 38.7,\n",
    "        'Nagpur': 33.0,\n",
    "        'Patna': 37.9}\n",
    "while True:                              #Runs Unitl a proper execution\n",
    "    inp = input('Enter the city number to check the temperature: ')\n",
    "    if inp in temp:                      #Checks the city name in the dictionary\n",
    "        print(f'The temperature in {inp} is {temp[inp]}°C')\n",
    "        break\n",
    "    else:                                \n",
    "        print('Invalid city name. Try again')"
   ]
  }
 ],
 "metadata": {
  "kernelspec": {
   "display_name": "Python 3",
   "language": "python",
   "name": "python3"
  },
  "language_info": {
   "codemirror_mode": {
    "name": "ipython",
    "version": 3
   },
   "file_extension": ".py",
   "mimetype": "text/x-python",
   "name": "python",
   "nbconvert_exporter": "python",
   "pygments_lexer": "ipython3",
   "version": "3.10.12"
  }
 },
 "nbformat": 4,
 "nbformat_minor": 2
}
