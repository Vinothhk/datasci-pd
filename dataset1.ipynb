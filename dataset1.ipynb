{
 "cells": [
  {
   "cell_type": "code",
   "execution_count": 5,
   "metadata": {},
   "outputs": [],
   "source": [
    "import pandas as pd\n",
    "import numpy as np\n",
    "from sklearn.impute import SimpleImputer\n",
    "from sklearn.compose import ColumnTransformer"
   ]
  },
  {
   "cell_type": "code",
   "execution_count": 6,
   "metadata": {},
   "outputs": [
    {
     "name": "stdout",
     "output_type": "stream",
     "text": [
      "    Person   Age       City Bool  Marks\n",
      "0  Person2  24.0  Bangalore   No     47\n",
      "1  Person3  19.0      Delhi   No     89\n",
      "2  Person4   NaN     Mumbai  Yes     93\n",
      "3  Person5  24.0  Hyderabad   No     85\n",
      "4  Person1  17.0    Chennai  Yes     98\n"
     ]
    }
   ],
   "source": [
    "df  = pd.read_csv('datasets/dataset1.csv')     # Read t]]\n",
    "print(df)"
   ]
  },
  {
   "cell_type": "markdown",
   "metadata": {},
   "source": [
    "#### describe()\n",
    "\n",
    "Generate descriptive statistics that include those that summarize the central\n",
    "tendency, dispersion and shape of a\n",
    "dataset's distribution, excluding ``NaN`` values.\n",
    "\n"
   ]
  },
  {
   "cell_type": "code",
   "execution_count": 7,
   "metadata": {},
   "outputs": [
    {
     "data": {
      "text/html": [
       "<div>\n",
       "<style scoped>\n",
       "    .dataframe tbody tr th:only-of-type {\n",
       "        vertical-align: middle;\n",
       "    }\n",
       "\n",
       "    .dataframe tbody tr th {\n",
       "        vertical-align: top;\n",
       "    }\n",
       "\n",
       "    .dataframe thead th {\n",
       "        text-align: right;\n",
       "    }\n",
       "</style>\n",
       "<table border=\"1\" class=\"dataframe\">\n",
       "  <thead>\n",
       "    <tr style=\"text-align: right;\">\n",
       "      <th></th>\n",
       "      <th>Age</th>\n",
       "      <th>Marks</th>\n",
       "    </tr>\n",
       "  </thead>\n",
       "  <tbody>\n",
       "    <tr>\n",
       "      <th>count</th>\n",
       "      <td>4.000000</td>\n",
       "      <td>5.000000</td>\n",
       "    </tr>\n",
       "    <tr>\n",
       "      <th>mean</th>\n",
       "      <td>21.000000</td>\n",
       "      <td>82.400000</td>\n",
       "    </tr>\n",
       "    <tr>\n",
       "      <th>std</th>\n",
       "      <td>3.559026</td>\n",
       "      <td>20.366639</td>\n",
       "    </tr>\n",
       "    <tr>\n",
       "      <th>min</th>\n",
       "      <td>17.000000</td>\n",
       "      <td>47.000000</td>\n",
       "    </tr>\n",
       "    <tr>\n",
       "      <th>25%</th>\n",
       "      <td>18.500000</td>\n",
       "      <td>85.000000</td>\n",
       "    </tr>\n",
       "    <tr>\n",
       "      <th>50%</th>\n",
       "      <td>21.500000</td>\n",
       "      <td>89.000000</td>\n",
       "    </tr>\n",
       "    <tr>\n",
       "      <th>75%</th>\n",
       "      <td>24.000000</td>\n",
       "      <td>93.000000</td>\n",
       "    </tr>\n",
       "    <tr>\n",
       "      <th>max</th>\n",
       "      <td>24.000000</td>\n",
       "      <td>98.000000</td>\n",
       "    </tr>\n",
       "  </tbody>\n",
       "</table>\n",
       "</div>"
      ],
      "text/plain": [
       "             Age      Marks\n",
       "count   4.000000   5.000000\n",
       "mean   21.000000  82.400000\n",
       "std     3.559026  20.366639\n",
       "min    17.000000  47.000000\n",
       "25%    18.500000  85.000000\n",
       "50%    21.500000  89.000000\n",
       "75%    24.000000  93.000000\n",
       "max    24.000000  98.000000"
      ]
     },
     "execution_count": 7,
     "metadata": {},
     "output_type": "execute_result"
    }
   ],
   "source": [
    "df.describe()  # Generate descriptive statistics"
   ]
  },
  {
   "cell_type": "code",
   "execution_count": 3,
   "metadata": {},
   "outputs": [
    {
     "ename": "NameError",
     "evalue": "name 'df' is not defined",
     "output_type": "error",
     "traceback": [
      "\u001b[0;31m---------------------------------------------------------------------------\u001b[0m",
      "\u001b[0;31mNameError\u001b[0m                                 Traceback (most recent call last)",
      "Cell \u001b[0;32mIn[3], line 1\u001b[0m\n\u001b[0;32m----> 1\u001b[0m \u001b[38;5;28mprint\u001b[39m(\u001b[43mdf\u001b[49m\u001b[38;5;241m.\u001b[39mshape)                     \u001b[38;5;66;03m#representing the dimensionality of the DataFrame\u001b[39;00m\n\u001b[1;32m      3\u001b[0m \u001b[38;5;28mprint\u001b[39m(df\u001b[38;5;241m.\u001b[39misnull())                  \u001b[38;5;66;03m#Return a boolean same-sized object indicating if the values are NA\u001b[39;00m\n",
      "\u001b[0;31mNameError\u001b[0m: name 'df' is not defined"
     ]
    }
   ],
   "source": [
    "print(df.shape)                     #representing the dimensionality of the DataFrame\n",
    "\n",
    "print(df.isnull())                  #Return a boolean same-sized object indicating if the values are NA"
   ]
  },
  {
   "cell_type": "code",
   "execution_count": null,
   "metadata": {},
   "outputs": [],
   "source": [
    "df1 = pd.read_csv('datasets/cars.csv')                  #Reads cars.csv file\n",
    "df2 = pd.read_csv('datasets/loans.csv')                 #Reads loans.csv file"
   ]
  },
  {
   "cell_type": "code",
   "execution_count": null,
   "metadata": {},
   "outputs": [
    {
     "name": "stdout",
     "output_type": "stream",
     "text": [
      "           Car       Model  Volume  Weight  CO2  Unnamed: 5\n",
      "0       Toyota        Aygo    1000     790   99         NaN\n",
      "1   Mitsubishi  Space Star    1200    1160   95         NaN\n",
      "2        Skoda      Citigo    1000     929   95         NaN\n",
      "3         Fiat         500     900     865   90         NaN\n",
      "4         Mini      Cooper    1500    1140  105         NaN\n",
      "5           VW         Up!    1000     929  105         NaN\n",
      "6        Skoda       Fabia    1400    1109   90         NaN\n",
      "7     Mercedes     A-Class    1500    1365   92         NaN\n",
      "8         Ford      Fiesta    1500    1112   98         NaN\n",
      "9         Audi          A1    1600    1150   99         NaN\n",
      "10     Hyundai         I20    1100     980   99         NaN\n",
      "11      Suzuki       Swift    1300     990  101         NaN\n",
      "12        Ford      Fiesta    1000    1112   99         NaN\n",
      "13       Honda       Civic    1600    1252   94         NaN\n",
      "14      Hundai         I30    1600    1326   97         NaN\n",
      "15        Opel       Astra    1600    1330   97         NaN\n",
      "16         BMW           1    1600    1365   99         NaN\n",
      "17       Mazda           3    2200    1280  104         NaN\n",
      "18       Skoda       Rapid    1600    1119  104         NaN\n",
      "19        Ford       Focus    2000    1328  105         NaN\n",
      "20        Ford      Mondeo    1600    1584   94         NaN\n",
      "21        Opel    Insignia    2000    1428   99         NaN\n",
      "22    Mercedes     C-Class    2100    1365   99         NaN\n",
      "23       Skoda     Octavia    1600    1415   99         NaN\n",
      "24       Volvo         S60    2000    1415   99         NaN\n",
      "25    Mercedes         CLA    1500    1465  102         NaN\n",
      "26        Audi          A4    2000    1490  104         NaN\n",
      "27        Audi          A6    2000    1725  114         NaN\n",
      "28       Volvo         V70    1600    1523  109         NaN\n",
      "29         BMW           5    2000    1705  114         NaN\n",
      "30    Mercedes     E-Class    2100    1605  115         NaN\n",
      "31       Volvo        XC70    2000    1746  117         NaN\n",
      "32        Ford       B-Max    1600    1235  104         NaN\n",
      "33         BMW           2    1600    1390  108         NaN\n",
      "34        Opel      Zafira    1600    1405  109         NaN\n",
      "35    Mercedes         SLK    2500    1395  120         NaN\n"
     ]
    }
   ],
   "source": [
    "print(df1)"
   ]
  },
  {
   "cell_type": "code",
   "execution_count": null,
   "metadata": {},
   "outputs": [
    {
     "name": "stdout",
     "output_type": "stream",
     "text": [
      "     client_id loan_type  loan_amount  repaid  loan_id  loan_start  \\\n",
      "0        46109      home        13672       0    10243  2002-04-16   \n",
      "1        46109    credit         9794       0    10984  2003-10-21   \n",
      "2        46109      home        12734       1    10990  2006-02-01   \n",
      "3        46109      cash        12518       1    10596  2010-12-08   \n",
      "4        46109    credit        14049       1    11415  2010-07-07   \n",
      "..         ...       ...          ...     ...      ...         ...   \n",
      "438      26945     other        12963       0    10330  2001-11-26   \n",
      "439      26945    credit         1728       1    10248  2004-01-27   \n",
      "440      26945     other         9329       0    10154  2001-12-17   \n",
      "441      26945      home         4197       0    10333  2003-10-16   \n",
      "442      26945      home         3643       0    11434  2010-03-24   \n",
      "\n",
      "       loan_end  rate  \n",
      "0    2003-12-20  2.15  \n",
      "1    2005-07-17  1.25  \n",
      "2    2007-07-05  0.68  \n",
      "3    2013-05-05  1.24  \n",
      "4    2012-05-21  3.13  \n",
      "..          ...   ...  \n",
      "438  2004-06-11  2.46  \n",
      "439  2005-06-21  5.27  \n",
      "440  2004-07-22  5.65  \n",
      "441  2005-07-10  4.50  \n",
      "442  2011-12-22  0.13  \n",
      "\n",
      "[443 rows x 8 columns]\n"
     ]
    }
   ],
   "source": [
    "print(df2)"
   ]
  },
  {
   "cell_type": "markdown",
   "metadata": {},
   "source": [
    "### SimpleImputer()\n",
    "Replace missing values using a descriptive statistic (e.g. mean, median, or\n",
    "most frequent) along each column, or using a constant value.\n",
    "    "
   ]
  },
  {
   "cell_type": "code",
   "execution_count": null,
   "metadata": {},
   "outputs": [
    {
     "name": "stdout",
     "output_type": "stream",
     "text": [
      "    Person   Age       City Bool  Marks\n",
      "0  Person2  24.0  Bangalore   No     47\n",
      "1  Person3  19.0      Delhi   No     89\n",
      "2  Person4   NaN     Mumbai  Yes     93\n",
      "3  Person5  24.0  Hyderabad   No     85\n",
      "4  Person1  17.0    Chennai  Yes     98\n"
     ]
    },
    {
     "ename": "ValueError",
     "evalue": "Cannot use mean strategy with non-numeric data:\ncould not convert string to float: 'Person2'",
     "output_type": "error",
     "traceback": [
      "\u001b[0;31m---------------------------------------------------------------------------\u001b[0m",
      "\u001b[0;31mValueError\u001b[0m                                Traceback (most recent call last)",
      "Cell \u001b[0;32mIn[27], line 3\u001b[0m\n\u001b[1;32m      1\u001b[0m impute \u001b[38;5;241m=\u001b[39m SimpleImputer(missing_values\u001b[38;5;241m=\u001b[39m\u001b[38;5;124m\"\u001b[39m\u001b[38;5;124mNaN\u001b[39m\u001b[38;5;124m\"\u001b[39m, strategy\u001b[38;5;241m=\u001b[39m\u001b[38;5;124m\"\u001b[39m\u001b[38;5;124mmean\u001b[39m\u001b[38;5;124m\"\u001b[39m)\n\u001b[1;32m      2\u001b[0m \u001b[38;5;28mprint\u001b[39m(df)\n\u001b[0;32m----> 3\u001b[0m imputer \u001b[38;5;241m=\u001b[39m \u001b[43mimpute\u001b[49m\u001b[38;5;241;43m.\u001b[39;49m\u001b[43mfit\u001b[49m\u001b[43m(\u001b[49m\u001b[43mdf\u001b[49m\u001b[43m)\u001b[49m   \n\u001b[1;32m      4\u001b[0m data \u001b[38;5;241m=\u001b[39m imputer\u001b[38;5;241m.\u001b[39mtransform(df)\n\u001b[1;32m      5\u001b[0m \u001b[38;5;28mprint\u001b[39m(data)\n",
      "File \u001b[0;32m~/.local/lib/python3.10/site-packages/sklearn/base.py:1474\u001b[0m, in \u001b[0;36m_fit_context.<locals>.decorator.<locals>.wrapper\u001b[0;34m(estimator, *args, **kwargs)\u001b[0m\n\u001b[1;32m   1467\u001b[0m     estimator\u001b[38;5;241m.\u001b[39m_validate_params()\n\u001b[1;32m   1469\u001b[0m \u001b[38;5;28;01mwith\u001b[39;00m config_context(\n\u001b[1;32m   1470\u001b[0m     skip_parameter_validation\u001b[38;5;241m=\u001b[39m(\n\u001b[1;32m   1471\u001b[0m         prefer_skip_nested_validation \u001b[38;5;129;01mor\u001b[39;00m global_skip_validation\n\u001b[1;32m   1472\u001b[0m     )\n\u001b[1;32m   1473\u001b[0m ):\n\u001b[0;32m-> 1474\u001b[0m     \u001b[38;5;28;01mreturn\u001b[39;00m \u001b[43mfit_method\u001b[49m\u001b[43m(\u001b[49m\u001b[43mestimator\u001b[49m\u001b[43m,\u001b[49m\u001b[43m \u001b[49m\u001b[38;5;241;43m*\u001b[39;49m\u001b[43margs\u001b[49m\u001b[43m,\u001b[49m\u001b[43m \u001b[49m\u001b[38;5;241;43m*\u001b[39;49m\u001b[38;5;241;43m*\u001b[39;49m\u001b[43mkwargs\u001b[49m\u001b[43m)\u001b[49m\n",
      "File \u001b[0;32m~/.local/lib/python3.10/site-packages/sklearn/impute/_base.py:410\u001b[0m, in \u001b[0;36mSimpleImputer.fit\u001b[0;34m(self, X, y)\u001b[0m\n\u001b[1;32m    392\u001b[0m \u001b[38;5;129m@_fit_context\u001b[39m(prefer_skip_nested_validation\u001b[38;5;241m=\u001b[39m\u001b[38;5;28;01mTrue\u001b[39;00m)\n\u001b[1;32m    393\u001b[0m \u001b[38;5;28;01mdef\u001b[39;00m \u001b[38;5;21mfit\u001b[39m(\u001b[38;5;28mself\u001b[39m, X, y\u001b[38;5;241m=\u001b[39m\u001b[38;5;28;01mNone\u001b[39;00m):\n\u001b[1;32m    394\u001b[0m \u001b[38;5;250m    \u001b[39m\u001b[38;5;124;03m\"\"\"Fit the imputer on `X`.\u001b[39;00m\n\u001b[1;32m    395\u001b[0m \n\u001b[1;32m    396\u001b[0m \u001b[38;5;124;03m    Parameters\u001b[39;00m\n\u001b[0;32m   (...)\u001b[0m\n\u001b[1;32m    408\u001b[0m \u001b[38;5;124;03m        Fitted estimator.\u001b[39;00m\n\u001b[1;32m    409\u001b[0m \u001b[38;5;124;03m    \"\"\"\u001b[39;00m\n\u001b[0;32m--> 410\u001b[0m     X \u001b[38;5;241m=\u001b[39m \u001b[38;5;28;43mself\u001b[39;49m\u001b[38;5;241;43m.\u001b[39;49m\u001b[43m_validate_input\u001b[49m\u001b[43m(\u001b[49m\u001b[43mX\u001b[49m\u001b[43m,\u001b[49m\u001b[43m \u001b[49m\u001b[43min_fit\u001b[49m\u001b[38;5;241;43m=\u001b[39;49m\u001b[38;5;28;43;01mTrue\u001b[39;49;00m\u001b[43m)\u001b[49m\n\u001b[1;32m    412\u001b[0m     \u001b[38;5;66;03m# default fill_value is 0 for numerical input and \"missing_value\"\u001b[39;00m\n\u001b[1;32m    413\u001b[0m     \u001b[38;5;66;03m# otherwise\u001b[39;00m\n\u001b[1;32m    414\u001b[0m     \u001b[38;5;28;01mif\u001b[39;00m \u001b[38;5;28mself\u001b[39m\u001b[38;5;241m.\u001b[39mfill_value \u001b[38;5;129;01mis\u001b[39;00m \u001b[38;5;28;01mNone\u001b[39;00m:\n",
      "File \u001b[0;32m~/.local/lib/python3.10/site-packages/sklearn/impute/_base.py:337\u001b[0m, in \u001b[0;36mSimpleImputer._validate_input\u001b[0;34m(self, X, in_fit)\u001b[0m\n\u001b[1;32m    331\u001b[0m \u001b[38;5;28;01mif\u001b[39;00m \u001b[38;5;124m\"\u001b[39m\u001b[38;5;124mcould not convert\u001b[39m\u001b[38;5;124m\"\u001b[39m \u001b[38;5;129;01min\u001b[39;00m \u001b[38;5;28mstr\u001b[39m(ve):\n\u001b[1;32m    332\u001b[0m     new_ve \u001b[38;5;241m=\u001b[39m \u001b[38;5;167;01mValueError\u001b[39;00m(\n\u001b[1;32m    333\u001b[0m         \u001b[38;5;124m\"\u001b[39m\u001b[38;5;124mCannot use \u001b[39m\u001b[38;5;132;01m{}\u001b[39;00m\u001b[38;5;124m strategy with non-numeric data:\u001b[39m\u001b[38;5;130;01m\\n\u001b[39;00m\u001b[38;5;132;01m{}\u001b[39;00m\u001b[38;5;124m\"\u001b[39m\u001b[38;5;241m.\u001b[39mformat(\n\u001b[1;32m    334\u001b[0m             \u001b[38;5;28mself\u001b[39m\u001b[38;5;241m.\u001b[39mstrategy, ve\n\u001b[1;32m    335\u001b[0m         )\n\u001b[1;32m    336\u001b[0m     )\n\u001b[0;32m--> 337\u001b[0m     \u001b[38;5;28;01mraise\u001b[39;00m new_ve \u001b[38;5;28;01mfrom\u001b[39;00m \u001b[38;5;28;01mNone\u001b[39;00m\n\u001b[1;32m    338\u001b[0m \u001b[38;5;28;01melse\u001b[39;00m:\n\u001b[1;32m    339\u001b[0m     \u001b[38;5;28;01mraise\u001b[39;00m ve\n",
      "\u001b[0;31mValueError\u001b[0m: Cannot use mean strategy with non-numeric data:\ncould not convert string to float: 'Person2'"
     ]
    }
   ],
   "source": [
    "impute = SimpleImputer(missing_values=\"NaN\", strategy=\"mean\")\n",
    "print(df)\n",
    "imputer = impute.fit(df)   \n",
    "data = imputer.transform(df)\n",
    "print(data)"
   ]
  },
  {
   "cell_type": "markdown",
   "metadata": {},
   "source": [
    "### get_dummies(<coloumn>)\n",
    "\n",
    "Each variable is converted in as many 0/1 variables as there are different\n",
    "values. Columns in the output are each named after a value; if the input is\n",
    "a DataFrame, the name of the original variable is prepended to the value."
   ]
  },
  {
   "cell_type": "code",
   "execution_count": null,
   "metadata": {},
   "outputs": [
    {
     "name": "stdout",
     "output_type": "stream",
     "text": [
      "    Model_1  Model_2  Model_3  Model_5  Model_500  Model_A-Class  Model_A1  Model_A4  Model_A6  Model_Astra  Model_Aygo  Model_B-Max  Model_C-Class  Model_CLA  Model_Citigo  Model_Civic  Model_Cooper  Model_E-Class  Model_Fabia  Model_Fiesta  Model_Focus  Model_I20  Model_I30  Model_Insignia  Model_Mondeo  Model_Octavia  Model_Rapid  Model_S60  Model_SLK  Model_Space Star  Model_Swift  Model_Up!  Model_V70  Model_XC70  Model_Zafira\n",
      "0     False    False    False    False      False          False     False     False     False        False        True        False          False      False         False        False         False          False        False         False        False      False      False           False         False          False        False      False      False             False        False      False      False       False         False\n",
      "1     False    False    False    False      False          False     False     False     False        False       False        False          False      False         False        False         False          False        False         False        False      False      False           False         False          False        False      False      False              True        False      False      False       False         False\n",
      "2     False    False    False    False      False          False     False     False     False        False       False        False          False      False          True        False         False          False        False         False        False      False      False           False         False          False        False      False      False             False        False      False      False       False         False\n",
      "3     False    False    False    False       True          False     False     False     False        False       False        False          False      False         False        False         False          False        False         False        False      False      False           False         False          False        False      False      False             False        False      False      False       False         False\n",
      "4     False    False    False    False      False          False     False     False     False        False       False        False          False      False         False        False          True          False        False         False        False      False      False           False         False          False        False      False      False             False        False      False      False       False         False\n",
      "5     False    False    False    False      False          False     False     False     False        False       False        False          False      False         False        False         False          False        False         False        False      False      False           False         False          False        False      False      False             False        False       True      False       False         False\n",
      "6     False    False    False    False      False          False     False     False     False        False       False        False          False      False         False        False         False          False         True         False        False      False      False           False         False          False        False      False      False             False        False      False      False       False         False\n",
      "7     False    False    False    False      False           True     False     False     False        False       False        False          False      False         False        False         False          False        False         False        False      False      False           False         False          False        False      False      False             False        False      False      False       False         False\n",
      "8     False    False    False    False      False          False     False     False     False        False       False        False          False      False         False        False         False          False        False          True        False      False      False           False         False          False        False      False      False             False        False      False      False       False         False\n",
      "9     False    False    False    False      False          False      True     False     False        False       False        False          False      False         False        False         False          False        False         False        False      False      False           False         False          False        False      False      False             False        False      False      False       False         False\n",
      "10    False    False    False    False      False          False     False     False     False        False       False        False          False      False         False        False         False          False        False         False        False       True      False           False         False          False        False      False      False             False        False      False      False       False         False\n",
      "11    False    False    False    False      False          False     False     False     False        False       False        False          False      False         False        False         False          False        False         False        False      False      False           False         False          False        False      False      False             False         True      False      False       False         False\n",
      "12    False    False    False    False      False          False     False     False     False        False       False        False          False      False         False        False         False          False        False          True        False      False      False           False         False          False        False      False      False             False        False      False      False       False         False\n",
      "13    False    False    False    False      False          False     False     False     False        False       False        False          False      False         False         True         False          False        False         False        False      False      False           False         False          False        False      False      False             False        False      False      False       False         False\n",
      "14    False    False    False    False      False          False     False     False     False        False       False        False          False      False         False        False         False          False        False         False        False      False       True           False         False          False        False      False      False             False        False      False      False       False         False\n",
      "15    False    False    False    False      False          False     False     False     False         True       False        False          False      False         False        False         False          False        False         False        False      False      False           False         False          False        False      False      False             False        False      False      False       False         False\n",
      "16     True    False    False    False      False          False     False     False     False        False       False        False          False      False         False        False         False          False        False         False        False      False      False           False         False          False        False      False      False             False        False      False      False       False         False\n",
      "17    False    False     True    False      False          False     False     False     False        False       False        False          False      False         False        False         False          False        False         False        False      False      False           False         False          False        False      False      False             False        False      False      False       False         False\n",
      "18    False    False    False    False      False          False     False     False     False        False       False        False          False      False         False        False         False          False        False         False        False      False      False           False         False          False         True      False      False             False        False      False      False       False         False\n",
      "19    False    False    False    False      False          False     False     False     False        False       False        False          False      False         False        False         False          False        False         False         True      False      False           False         False          False        False      False      False             False        False      False      False       False         False\n",
      "20    False    False    False    False      False          False     False     False     False        False       False        False          False      False         False        False         False          False        False         False        False      False      False           False          True          False        False      False      False             False        False      False      False       False         False\n",
      "21    False    False    False    False      False          False     False     False     False        False       False        False          False      False         False        False         False          False        False         False        False      False      False            True         False          False        False      False      False             False        False      False      False       False         False\n",
      "22    False    False    False    False      False          False     False     False     False        False       False        False           True      False         False        False         False          False        False         False        False      False      False           False         False          False        False      False      False             False        False      False      False       False         False\n",
      "23    False    False    False    False      False          False     False     False     False        False       False        False          False      False         False        False         False          False        False         False        False      False      False           False         False           True        False      False      False             False        False      False      False       False         False\n",
      "24    False    False    False    False      False          False     False     False     False        False       False        False          False      False         False        False         False          False        False         False        False      False      False           False         False          False        False       True      False             False        False      False      False       False         False\n",
      "25    False    False    False    False      False          False     False     False     False        False       False        False          False       True         False        False         False          False        False         False        False      False      False           False         False          False        False      False      False             False        False      False      False       False         False\n",
      "26    False    False    False    False      False          False     False      True     False        False       False        False          False      False         False        False         False          False        False         False        False      False      False           False         False          False        False      False      False             False        False      False      False       False         False\n",
      "27    False    False    False    False      False          False     False     False      True        False       False        False          False      False         False        False         False          False        False         False        False      False      False           False         False          False        False      False      False             False        False      False      False       False         False\n",
      "28    False    False    False    False      False          False     False     False     False        False       False        False          False      False         False        False         False          False        False         False        False      False      False           False         False          False        False      False      False             False        False      False       True       False         False\n",
      "29    False    False    False     True      False          False     False     False     False        False       False        False          False      False         False        False         False          False        False         False        False      False      False           False         False          False        False      False      False             False        False      False      False       False         False\n",
      "30    False    False    False    False      False          False     False     False     False        False       False        False          False      False         False        False         False           True        False         False        False      False      False           False         False          False        False      False      False             False        False      False      False       False         False\n",
      "31    False    False    False    False      False          False     False     False     False        False       False        False          False      False         False        False         False          False        False         False        False      False      False           False         False          False        False      False      False             False        False      False      False        True         False\n",
      "32    False    False    False    False      False          False     False     False     False        False       False         True          False      False         False        False         False          False        False         False        False      False      False           False         False          False        False      False      False             False        False      False      False       False         False\n",
      "33    False     True    False    False      False          False     False     False     False        False       False        False          False      False         False        False         False          False        False         False        False      False      False           False         False          False        False      False      False             False        False      False      False       False         False\n",
      "34    False    False    False    False      False          False     False     False     False        False       False        False          False      False         False        False         False          False        False         False        False      False      False           False         False          False        False      False      False             False        False      False      False       False          True\n",
      "35    False    False    False    False      False          False     False     False     False        False       False        False          False      False         False        False         False          False        False         False        False      False      False           False         False          False        False      False       True             False        False      False      False       False         False\n"
     ]
    }
   ],
   "source": [
    "new_cars = pd.get_dummies(df1[['Model']])\n",
    "print(new_cars.to_string())\n",
    "#print(new_cars)"
   ]
  }
 ],
 "metadata": {
  "kernelspec": {
   "display_name": "Python 3",
   "language": "python",
   "name": "python3"
  },
  "language_info": {
   "codemirror_mode": {
    "name": "ipython",
    "version": 3
   },
   "file_extension": ".py",
   "mimetype": "text/x-python",
   "name": "python",
   "nbconvert_exporter": "python",
   "pygments_lexer": "ipython3",
   "version": "3.10.12"
  }
 },
 "nbformat": 4,
 "nbformat_minor": 2
}
